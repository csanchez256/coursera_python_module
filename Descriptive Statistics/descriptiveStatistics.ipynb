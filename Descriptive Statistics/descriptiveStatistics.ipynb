{
 "cells": [
  {
   "cell_type": "code",
   "execution_count": 6,
   "metadata": {},
   "outputs": [
    {
     "data": {
      "text/plain": [
       "61.540000000000006"
      ]
     },
     "execution_count": 6,
     "metadata": {},
     "output_type": "execute_result"
    }
   ],
   "source": [
    "import numpy as p\n",
    "import pandas as pd\n",
    "import matplotlib.pyplot as plt\n",
    "\n",
    "education_districtwise = pd.read_csv('C:\\\\Users\\\\css7c\\\\OneDrive\\\\Desktop\\\\Coursera Data Analytics Certificate\\\\COURSE 4 - Statistics\\\\education_districtwise.csv')\n",
    "\n",
    "# Head function to get a quick overview of the data.\n",
    "education_districtwise.head(10)\n",
    "\n",
    "education_districtwise['OVERALL_LI'].describe()\n",
    "\n",
    "education_districtwise['STATNAME'].describe()\n",
    "\n",
    "# This simply subracts the max from the min\n",
    "range_overall_li = education_districtwise['OVERALL_LI'].max() - education_districtwise['OVERALL_LI'].min()\n",
    "range_overall_li\n"
   ]
  }
 ],
 "metadata": {
  "kernelspec": {
   "display_name": "Python 3",
   "language": "python",
   "name": "python3"
  },
  "language_info": {
   "codemirror_mode": {
    "name": "ipython",
    "version": 3
   },
   "file_extension": ".py",
   "mimetype": "text/x-python",
   "name": "python",
   "nbconvert_exporter": "python",
   "pygments_lexer": "ipython3",
   "version": "3.12.3"
  }
 },
 "nbformat": 4,
 "nbformat_minor": 2
}
